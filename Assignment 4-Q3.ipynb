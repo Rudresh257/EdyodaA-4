{
 "cells": [
  {
   "cell_type": "code",
   "execution_count": 8,
   "id": "17546722",
   "metadata": {},
   "outputs": [],
   "source": [
    "def square_of_list():\n",
    "    size=int(input(\"Enter size of the list\"))\n",
    "    arr=[]\n",
    "    for i in range(size):\n",
    "        value=int(input())\n",
    "        arr.append(value)\n",
    "        result=list(map(lambda x:x**2,arr))\n",
    "    print(\"Sample list is:\",arr)\n",
    "    print(\"Square of the elements list is:\",result)"
   ]
  },
  {
   "cell_type": "code",
   "execution_count": 9,
   "id": "c38c203b",
   "metadata": {},
   "outputs": [
    {
     "name": "stdout",
     "output_type": "stream",
     "text": [
      "Enter size of the list4\n",
      "4\n",
      "5\n",
      "2\n",
      "9\n",
      "Sample list is: [4, 5, 2, 9]\n",
      "Square of the elements list is: [16, 25, 4, 81]\n"
     ]
    }
   ],
   "source": [
    "square_of_list()"
   ]
  },
  {
   "cell_type": "code",
   "execution_count": null,
   "id": "1ff3fab7",
   "metadata": {},
   "outputs": [],
   "source": []
  }
 ],
 "metadata": {
  "kernelspec": {
   "display_name": "Python 3 (ipykernel)",
   "language": "python",
   "name": "python3"
  },
  "language_info": {
   "codemirror_mode": {
    "name": "ipython",
    "version": 3
   },
   "file_extension": ".py",
   "mimetype": "text/x-python",
   "name": "python",
   "nbconvert_exporter": "python",
   "pygments_lexer": "ipython3",
   "version": "3.10.0"
  }
 },
 "nbformat": 4,
 "nbformat_minor": 5
}
