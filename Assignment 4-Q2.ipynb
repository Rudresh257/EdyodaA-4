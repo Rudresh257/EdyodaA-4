{
 "cells": [
  {
   "cell_type": "code",
   "execution_count": 7,
   "id": "39f30602",
   "metadata": {},
   "outputs": [],
   "source": [
    "def triple_of_list(size):\n",
    "    size=int(input(\"Enter size of the list\"))\n",
    "    arr=[]\n",
    "    for i in range(size):\n",
    "        value=int(input())\n",
    "        arr.append(value)\n",
    "        result=list(map(lambda x:x*3,arr))\n",
    "    print(\"Sample list is :\",arr)\n",
    "    print(\"Triple of list numbers :\",result)"
   ]
  },
  {
   "cell_type": "code",
   "execution_count": 8,
   "id": "b4e73640",
   "metadata": {},
   "outputs": [
    {
     "name": "stdout",
     "output_type": "stream",
     "text": [
      "Enter size of the list7\n",
      "1\n",
      "2\n",
      "3\n",
      "4\n",
      "5\n",
      "6\n",
      "7\n",
      "Sample list is : [1, 2, 3, 4, 5, 6, 7]\n",
      "Triple of list numbers : [3, 6, 9, 12, 15, 18, 21]\n"
     ]
    }
   ],
   "source": [
    "triple_of_list(size)"
   ]
  },
  {
   "cell_type": "code",
   "execution_count": null,
   "id": "4268be37",
   "metadata": {},
   "outputs": [],
   "source": []
  }
 ],
 "metadata": {
  "kernelspec": {
   "display_name": "Python 3 (ipykernel)",
   "language": "python",
   "name": "python3"
  },
  "language_info": {
   "codemirror_mode": {
    "name": "ipython",
    "version": 3
   },
   "file_extension": ".py",
   "mimetype": "text/x-python",
   "name": "python",
   "nbconvert_exporter": "python",
   "pygments_lexer": "ipython3",
   "version": "3.10.0"
  }
 },
 "nbformat": 4,
 "nbformat_minor": 5
}
